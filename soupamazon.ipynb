{
 "cells": [
  {
   "cell_type": "code",
   "execution_count": 8,
   "metadata": {},
   "outputs": [
    {
     "name": "stdout",
     "output_type": "stream",
     "text": [
      "10\n",
      "\n",
      "  Rs. 37,999.00\n",
      "\n",
      "OnePlus 6T (Mirror Black, 6GB RAM, 128GB Storage)\n"
     ]
    }
   ],
   "source": [
    "from bs4 import BeautifulSoup as soup\n",
    "from urllib.request import urlopen as uReq\n",
    "import sys\n",
    "\n",
    "\n",
    "my_url = 'https://www.amazon.in/mobile-phones/b/ref=sd_allcat_sbc_mobcomp_all_mobiles?ie=UTF8&node=1389401031'\n",
    "\n",
    "\n",
    "uClient=uReq(my_url)\n",
    "\n",
    "page_html=uClient.read()\n",
    "\n",
    "\n",
    "uClient.close()\n",
    "page_soup =soup(page_html, \"html.parser\")\n",
    "containers = page_soup.findAll(\"div\", {\"class\": \"crwBucket\"})\n",
    "container = containers[0]\n",
    "\n",
    "print(len(containers))\n",
    "\n",
    "# print(soup.prettify(containers[9])) \n",
    "price = container.findAll(\"div\", {\"class\": \"crwPrice\"})\n",
    "print(price[0].text)\n",
    "\n",
    "print(container.div.img[\"alt\"])\n",
    "ratings = container.findAll(\"div\", {\"class\": \"crwProductDetail\"})\n"
   ]
  },
  {
   "cell_type": "code",
   "execution_count": null,
   "metadata": {},
   "outputs": [],
   "source": []
  }
 ],
 "metadata": {
  "kernelspec": {
   "display_name": "Python 3",
   "language": "python",
   "name": "python3"
  },
  "language_info": {
   "codemirror_mode": {
    "name": "ipython",
    "version": 3
   },
   "file_extension": ".py",
   "mimetype": "text/x-python",
   "name": "python",
   "nbconvert_exporter": "python",
   "pygments_lexer": "ipython3",
   "version": "3.7.0"
  }
 },
 "nbformat": 4,
 "nbformat_minor": 2
}
